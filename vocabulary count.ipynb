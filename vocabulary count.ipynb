{
 "cells": [
  {
   "cell_type": "code",
   "execution_count": 26,
   "metadata": {
    "scrolled": true
   },
   "outputs": [],
   "source": [
    "import pandas as pd\n",
    "import numpy  as np\n",
    "from pandas import Series,DataFrame\n",
    "import os\n",
    "dataframe = pd.read_csv('try.csv',header =None,sep=',',encoding='ANSI', keep_default_na=False)\n",
    "new_data = dataframe[0]\n",
    "count=pd.Series.count(new_data)\n",
    "pd.set_option('display.max_rows', None)                     #显示行所有内容\n",
    "pd.set_option('display.max_columns', None)                  #显示列所有内容\n",
    "#new_data.head()\n",
    "#print(new_data)\n",
    "#a = pd.Series.to_list(new_data)\n",
    "#b = pd.Series.to_numpy(new_data,dtype=str)\n",
    "# 将列表中的每行文字按空格拆分，去掉换行，大写转成小写\n",
    "#re.extend(str(new_data).strip('.\\n').lower().split(\",\"))"
   ]
  },
  {
   "cell_type": "code",
   "execution_count": 32,
   "metadata": {},
   "outputs": [],
   "source": [
    "re1=[]\n",
    "re1.extend(str(new_data).strip().lower().split())\n",
    "#print(re1)\n",
    "worddict={}\n",
    "for i in re1:\n",
    "    if i not in worddict:\n",
    "        worddict[i]=1\n",
    "    else:\n",
    "        worddict[i]+=1\n",
    "#print(worddict)\n",
    "#df = pd.DataFrame(worddict)\n",
    "#df_T = df.T#因为结果横向显示太长，转为转置矩阵\n",
    "    #我试了一下好像html不能转，只有excel能转，尴尬......\n",
    "#df.to_html('wordcount.html')\n",
    "#print(worddict)\n",
    "df2 = pd.DataFrame.from_dict(worddict,orient='index')\n",
    "#print(df2)\n",
    "#df2_T = df2.T#因为结果横向显示太长，转为转置矩阵,\n",
    "df2.to_csv('wordcount2.csv',index=True)                       #index为单词\n",
    "#df2_T"
   ]
  },
  {
   "cell_type": "code",
   "execution_count": 29,
   "metadata": {},
   "outputs": [],
   "source": [
    "?pd.DataFrame.from_"
   ]
  },
  {
   "cell_type": "code",
   "execution_count": null,
   "metadata": {},
   "outputs": [],
   "source": []
  }
 ],
 "metadata": {
  "kernelspec": {
   "display_name": "tensorflow",
   "language": "python",
   "name": "tensorflow"
  },
  "language_info": {
   "codemirror_mode": {
    "name": "ipython",
    "version": 3
   },
   "file_extension": ".py",
   "mimetype": "text/x-python",
   "name": "python",
   "nbconvert_exporter": "python",
   "pygments_lexer": "ipython3",
   "version": "3.6.2"
  }
 },
 "nbformat": 4,
 "nbformat_minor": 2
}
